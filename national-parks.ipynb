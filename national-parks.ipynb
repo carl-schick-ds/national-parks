{
 "cells": [
  {
   "cell_type": "markdown",
   "metadata": {},
   "source": [
    "# Github repository: national-parks\n"
   ]
  },
  {
   "cell_type": "code",
   "execution_count": 86,
   "metadata": {},
   "outputs": [],
   "source": [
    "REFRESH_DATA = True\n",
    "\n",
    "import numpy as np\n",
    "import pandas as pd\n",
    "import os\n",
    "\n",
    "if REFRESH_DATA:\n",
    "    import requests\n",
    "    import xml.etree.ElementTree as ET\n"
   ]
  },
  {
   "cell_type": "code",
   "execution_count": 87,
   "metadata": {},
   "outputs": [
    {
     "name": "stdout",
     "output_type": "stream",
     "text": [
      "{}\n",
      "{}\n",
      "{}\n",
      "{}\n",
      "{}\n",
      "{}\n",
      "{}\n",
      "{}\n",
      "{}\n",
      "{}\n",
      "{}\n",
      "{}\n",
      "{'ACAD': 'Acadia', 'ARCH': 'Arches', 'BADL': 'Badlands', 'BIBE': 'Big Bend', 'BISC': 'Biscayne', 'BLCA': 'Black Canyon of the Gunnison', 'BRCA': 'Bryce Canyon', 'CANY': 'Canyonlands', 'CARE': 'Capitol Reef', 'CAVE': 'Carlsbad Caverns', 'CHIS': 'Channel Islands', 'CONG': 'Congaree', 'CRLA': 'Crater Lake', 'CUVA': 'Cuyahoga Valley', 'DENG': 'Denali', 'DEVA': 'Death Valley', 'DRTO': 'Dry Tortugas', 'EVER': 'Everglades', 'GAAG': 'Gates of the Arctic', 'GLAC': 'Glacier', 'GLBG': 'Glacier Bay', 'GRBA': 'Great Basin', 'GRCA': 'Grand Canyon', 'GRDG': 'Great Sand Dunes', 'GRSM': 'Great Smoky Mountains', 'GRTE': 'Grand Teton', 'GUMO': 'Guadalupe Mountains', 'HALE': 'Haleakala', 'HAVO': 'Hawaii Volcanoes', 'HOSP': 'Hot Springs', 'INDU': 'Indiana Dunes', 'ISRO': 'Isle Royale', 'JEFF': 'Gateway Arch', 'JOTR': 'Joshua Tree', 'KATG': 'Katmai', 'KEFJ': 'Kenai Fjords', 'KICA': 'Kings Canyon', 'KOVA': 'Kobuk Valley', 'LACG': 'Lake Clark', 'LAVO': 'Lassen Volcanic', 'MACA': 'Mammoth Cave', 'MEVE': 'Mesa Verde', 'MORA': 'Mount Rainier', 'NOCA': 'North Cascades', 'NPSA': 'National Park of American Samoa', 'OLYM': 'Olympic', 'PEFO': 'Petrified Forest', 'PINN': 'Pinnacles', 'REDW': 'Redwood', 'ROMO': 'Rocky Mountain', 'SAGU': 'Saguaro', 'SEQU': 'Sequoia', 'SHEN': 'Shenandoah', 'THRO': 'Theodore Roosevelt', 'VIIS': 'Virgin Islands', 'VOYA': 'Voyageurs', 'WHSA': 'White Sands', 'WICA': 'Wind Cave', 'WRSG': 'Wrangell-St. Elias', 'YELL': 'Yellowstone', 'YOSE': 'Yosemite', 'ZION': 'Zion'}\n"
     ]
    },
    {
     "ename": "ValueError",
     "evalue": "Shape of passed values is (62, 1), indices imply (62, 2)",
     "output_type": "error",
     "traceback": [
      "\u001b[0;31m---------------------------------------------------------------------------\u001b[0m",
      "\u001b[0;31mValueError\u001b[0m                                Traceback (most recent call last)",
      "\u001b[0;32m/var/folders/kt/b8lrpwpn5w9910rcrffl5p140000gp/T/ipykernel_61780/990133680.py\u001b[0m in \u001b[0;36m<module>\u001b[0;34m\u001b[0m\n\u001b[1;32m     22\u001b[0m \u001b[0;34m\u001b[0m\u001b[0m\n\u001b[1;32m     23\u001b[0m         \u001b[0mprint\u001b[0m\u001b[0;34m(\u001b[0m\u001b[0mnational_parks\u001b[0m\u001b[0;34m)\u001b[0m\u001b[0;34m\u001b[0m\u001b[0;34m\u001b[0m\u001b[0m\n\u001b[0;32m---> 24\u001b[0;31m         \u001b[0mnational_parks_df\u001b[0m \u001b[0;34m=\u001b[0m \u001b[0mpd\u001b[0m\u001b[0;34m.\u001b[0m\u001b[0mDataFrame\u001b[0m\u001b[0;34m.\u001b[0m\u001b[0mfrom_dict\u001b[0m\u001b[0;34m(\u001b[0m\u001b[0mnational_parks\u001b[0m\u001b[0;34m,\u001b[0m \u001b[0morient\u001b[0m\u001b[0;34m=\u001b[0m\u001b[0;34m'index'\u001b[0m\u001b[0;34m,\u001b[0m \u001b[0mcolumns\u001b[0m\u001b[0;34m=\u001b[0m\u001b[0;34m[\u001b[0m\u001b[0;34m'code'\u001b[0m\u001b[0;34m,\u001b[0m \u001b[0;34m'name'\u001b[0m\u001b[0;34m]\u001b[0m\u001b[0;34m)\u001b[0m\u001b[0;34m\u001b[0m\u001b[0;34m\u001b[0m\u001b[0m\n\u001b[0m\u001b[1;32m     25\u001b[0m \u001b[0;34m\u001b[0m\u001b[0m\n\u001b[1;32m     26\u001b[0m         \u001b[0;31m# print(national_parks_df.head())\u001b[0m\u001b[0;34m\u001b[0m\u001b[0;34m\u001b[0m\u001b[0;34m\u001b[0m\u001b[0m\n",
      "\u001b[0;32m~/opt/anaconda3/envs/np/lib/python3.8/site-packages/pandas/core/frame.py\u001b[0m in \u001b[0;36mfrom_dict\u001b[0;34m(cls, data, orient, dtype, columns)\u001b[0m\n\u001b[1;32m   1591\u001b[0m             \u001b[0;32mraise\u001b[0m \u001b[0mValueError\u001b[0m\u001b[0;34m(\u001b[0m\u001b[0;34m\"only recognize index or columns for orient\"\u001b[0m\u001b[0;34m)\u001b[0m\u001b[0;34m\u001b[0m\u001b[0;34m\u001b[0m\u001b[0m\n\u001b[1;32m   1592\u001b[0m \u001b[0;34m\u001b[0m\u001b[0m\n\u001b[0;32m-> 1593\u001b[0;31m         \u001b[0;32mreturn\u001b[0m \u001b[0mcls\u001b[0m\u001b[0;34m(\u001b[0m\u001b[0mdata\u001b[0m\u001b[0;34m,\u001b[0m \u001b[0mindex\u001b[0m\u001b[0;34m=\u001b[0m\u001b[0mindex\u001b[0m\u001b[0;34m,\u001b[0m \u001b[0mcolumns\u001b[0m\u001b[0;34m=\u001b[0m\u001b[0mcolumns\u001b[0m\u001b[0;34m,\u001b[0m \u001b[0mdtype\u001b[0m\u001b[0;34m=\u001b[0m\u001b[0mdtype\u001b[0m\u001b[0;34m)\u001b[0m\u001b[0;34m\u001b[0m\u001b[0;34m\u001b[0m\u001b[0m\n\u001b[0m\u001b[1;32m   1594\u001b[0m \u001b[0;34m\u001b[0m\u001b[0m\n\u001b[1;32m   1595\u001b[0m     def to_numpy(\n",
      "\u001b[0;32m~/opt/anaconda3/envs/np/lib/python3.8/site-packages/pandas/core/frame.py\u001b[0m in \u001b[0;36m__init__\u001b[0;34m(self, data, index, columns, dtype, copy)\u001b[0m\n\u001b[1;32m    709\u001b[0m                     )\n\u001b[1;32m    710\u001b[0m                 \u001b[0;32melse\u001b[0m\u001b[0;34m:\u001b[0m\u001b[0;34m\u001b[0m\u001b[0;34m\u001b[0m\u001b[0m\n\u001b[0;32m--> 711\u001b[0;31m                     mgr = ndarray_to_mgr(\n\u001b[0m\u001b[1;32m    712\u001b[0m                         \u001b[0mdata\u001b[0m\u001b[0;34m,\u001b[0m\u001b[0;34m\u001b[0m\u001b[0;34m\u001b[0m\u001b[0m\n\u001b[1;32m    713\u001b[0m                         \u001b[0mindex\u001b[0m\u001b[0;34m,\u001b[0m\u001b[0;34m\u001b[0m\u001b[0;34m\u001b[0m\u001b[0m\n",
      "\u001b[0;32m~/opt/anaconda3/envs/np/lib/python3.8/site-packages/pandas/core/internals/construction.py\u001b[0m in \u001b[0;36mndarray_to_mgr\u001b[0;34m(values, index, columns, dtype, copy, typ)\u001b[0m\n\u001b[1;32m    322\u001b[0m     )\n\u001b[1;32m    323\u001b[0m \u001b[0;34m\u001b[0m\u001b[0m\n\u001b[0;32m--> 324\u001b[0;31m     \u001b[0m_check_values_indices_shape_match\u001b[0m\u001b[0;34m(\u001b[0m\u001b[0mvalues\u001b[0m\u001b[0;34m,\u001b[0m \u001b[0mindex\u001b[0m\u001b[0;34m,\u001b[0m \u001b[0mcolumns\u001b[0m\u001b[0;34m)\u001b[0m\u001b[0;34m\u001b[0m\u001b[0;34m\u001b[0m\u001b[0m\n\u001b[0m\u001b[1;32m    325\u001b[0m \u001b[0;34m\u001b[0m\u001b[0m\n\u001b[1;32m    326\u001b[0m     \u001b[0;32mif\u001b[0m \u001b[0mtyp\u001b[0m \u001b[0;34m==\u001b[0m \u001b[0;34m\"array\"\u001b[0m\u001b[0;34m:\u001b[0m\u001b[0;34m\u001b[0m\u001b[0;34m\u001b[0m\u001b[0m\n",
      "\u001b[0;32m~/opt/anaconda3/envs/np/lib/python3.8/site-packages/pandas/core/internals/construction.py\u001b[0m in \u001b[0;36m_check_values_indices_shape_match\u001b[0;34m(values, index, columns)\u001b[0m\n\u001b[1;32m    391\u001b[0m         \u001b[0mpassed\u001b[0m \u001b[0;34m=\u001b[0m \u001b[0mvalues\u001b[0m\u001b[0;34m.\u001b[0m\u001b[0mshape\u001b[0m\u001b[0;34m\u001b[0m\u001b[0;34m\u001b[0m\u001b[0m\n\u001b[1;32m    392\u001b[0m         \u001b[0mimplied\u001b[0m \u001b[0;34m=\u001b[0m \u001b[0;34m(\u001b[0m\u001b[0mlen\u001b[0m\u001b[0;34m(\u001b[0m\u001b[0mindex\u001b[0m\u001b[0;34m)\u001b[0m\u001b[0;34m,\u001b[0m \u001b[0mlen\u001b[0m\u001b[0;34m(\u001b[0m\u001b[0mcolumns\u001b[0m\u001b[0;34m)\u001b[0m\u001b[0;34m)\u001b[0m\u001b[0;34m\u001b[0m\u001b[0;34m\u001b[0m\u001b[0m\n\u001b[0;32m--> 393\u001b[0;31m         \u001b[0;32mraise\u001b[0m \u001b[0mValueError\u001b[0m\u001b[0;34m(\u001b[0m\u001b[0;34mf\"Shape of passed values is {passed}, indices imply {implied}\"\u001b[0m\u001b[0;34m)\u001b[0m\u001b[0;34m\u001b[0m\u001b[0;34m\u001b[0m\u001b[0m\n\u001b[0m\u001b[1;32m    394\u001b[0m \u001b[0;34m\u001b[0m\u001b[0m\n\u001b[1;32m    395\u001b[0m \u001b[0;34m\u001b[0m\u001b[0m\n",
      "\u001b[0;31mValueError\u001b[0m: Shape of passed values is (62, 1), indices imply (62, 2)"
     ]
    }
   ],
   "source": [
    "if REFRESH_DATA:\n",
    "\n",
    "    park_units_url = 'https://irmaservices.nps.gov/v2/rest/unit/designations'\n",
    "    park_units_namespace = {'root': 'NRPC.IrmaServices.Rest.Unit'}\n",
    "    \n",
    "    national_parks = {}\n",
    "    r = requests.get(park_units_url)\n",
    "    root = ET.fromstring(r.text)\n",
    "    # print(root.findall('root:UnitDesignation', park_units_namespace))\n",
    "    for unit_designation in root.findall('root:UnitDesignation', park_units_namespace):\n",
    "        # print(unit_designation.find('root:Code', park_units_namespace).text)\n",
    "        if unit_designation.find('root:Code', park_units_namespace).text == 'NP':\n",
    "            # print(unit_designation.find('root:Units', park_units_namespace))\n",
    "            units = unit_designation.find('root:Units', park_units_namespace)\n",
    "            # print(len(units.findall('root:Value', park_units_namespace)))\n",
    "            for value in units.findall('root:Value', park_units_namespace):\n",
    "                # print(value.find('root:Code', park_units_namespace).text)\n",
    "                # print(value.find('root:Name', park_units_namespace).text)\n",
    "                code = value.find('root:Code', park_units_namespace).text\n",
    "                name = value.find('root:Name', park_units_namespace).text\n",
    "                national_parks[code] = name\n",
    " \n",
    "        print(national_parks)\n",
    "        national_parks_df = pd.DataFrame.from_dict(national_parks, orient='index', columns=['code', 'name'])\n",
    "\n",
    "        # print(national_parks_df.head())\n",
    "\n",
    "    # park_codes_df = pd.read_xml(r.text)\n",
    "\n",
    "    # # Convert to pandas DataFrame\n",
    "    # book_df = pd.concat(df_pages, ignore_index=True)\n",
    "\n",
    "    # # Convert to CSV file\n",
    "    # book_df.to_csv('meteorite-landings.csv')"
   ]
  }
 ],
 "metadata": {
  "interpreter": {
   "hash": "12e770f971261f02467e136ae451d4f5bb6defd0f5ed675545d9d042537fc757"
  },
  "kernelspec": {
   "display_name": "Python 3.8.8 64-bit ('np': conda)",
   "language": "python",
   "name": "python3"
  },
  "language_info": {
   "codemirror_mode": {
    "name": "ipython",
    "version": 3
   },
   "file_extension": ".py",
   "mimetype": "text/x-python",
   "name": "python",
   "nbconvert_exporter": "python",
   "pygments_lexer": "ipython3",
   "version": "3.8.8"
  },
  "orig_nbformat": 4
 },
 "nbformat": 4,
 "nbformat_minor": 2
}
