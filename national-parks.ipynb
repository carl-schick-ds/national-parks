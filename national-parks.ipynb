{
 "cells": [
  {
   "cell_type": "markdown",
   "metadata": {},
   "source": [
    "# Github repository: national-parks\n"
   ]
  },
  {
   "cell_type": "code",
   "execution_count": 1,
   "metadata": {},
   "outputs": [],
   "source": [
    "REFRESH_DATA = True\n",
    "\n",
    "import numpy as np\n",
    "import pandas as pd\n",
    "import os\n",
    "\n",
    "if REFRESH_DATA:\n",
    "    import requests\n",
    "    from bs4 import BeautifulSoup\n"
   ]
  },
  {
   "cell_type": "code",
   "execution_count": 24,
   "metadata": {},
   "outputs": [
    {
     "name": "stdout",
     "output_type": "stream",
     "text": [
      "<class 'bs4.element.ResultSet'>\n",
      "          name\n",
      "code          \n",
      "ACAD    Acadia\n",
      "ARCH    Arches\n",
      "BADL  Badlands\n",
      "BIBE  Big Bend\n",
      "BISC  Biscayne\n"
     ]
    }
   ],
   "source": [
    "if REFRESH_DATA:\n",
    "\n",
    "    park_units_url = 'https://irmaservices.nps.gov/v2/rest/unit/designations'\n",
    "    park_units_namespace = {'root': 'NRPC.IrmaServices.Rest.Unit'}\n",
    "    \n",
    "    national_parks = {}\n",
    "    r = requests.get(park_units_url)\n",
    "    soup = BeautifulSoup(r.text, \"xml\")\n",
    "    # print(soup)\n",
    "\n",
    "    print(type(soup.find_all('UnitDesignation')))\n",
    "    for unit_designation in soup.find_all('UnitDesignation'):\n",
    "        if unit_designation.find(\"Code\").text == 'NP':\n",
    "            units = unit_designation.find(\"Units\")\n",
    "            for value in units.find_all('Value'):\n",
    "                code = value.find(\"Code\").text\n",
    "                name = value.find(\"Name\").text\n",
    "                national_parks[code] = name\n",
    "\n",
    "    # print(national_parks)\n",
    "    national_parks_df = pd.DataFrame.from_dict(national_parks, orient='index', columns=['name'])\n",
    "    national_parks_df.index.name = 'code'\n",
    "    print(national_parks_df.head())"
   ]
  }
 ],
 "metadata": {
  "interpreter": {
   "hash": "12e770f971261f02467e136ae451d4f5bb6defd0f5ed675545d9d042537fc757"
  },
  "kernelspec": {
   "display_name": "Python 3.8.8 64-bit ('np': conda)",
   "language": "python",
   "name": "python3"
  },
  "language_info": {
   "codemirror_mode": {
    "name": "ipython",
    "version": 3
   },
   "file_extension": ".py",
   "mimetype": "text/x-python",
   "name": "python",
   "nbconvert_exporter": "python",
   "pygments_lexer": "ipython3",
   "version": "3.8.8"
  },
  "orig_nbformat": 4
 },
 "nbformat": 4,
 "nbformat_minor": 2
}
